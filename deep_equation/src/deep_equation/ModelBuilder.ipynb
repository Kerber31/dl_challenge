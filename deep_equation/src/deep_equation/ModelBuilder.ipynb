{
 "cells": [
  {
   "cell_type": "code",
   "execution_count": 1,
   "id": "d83c38d4",
   "metadata": {},
   "outputs": [],
   "source": [
    "import numpy as np\n",
    "import tensorflow as tf\n",
    "from tensorflow import keras\n",
    "import tensorflow.keras.backend as K\n",
    "from tensorflow.data import Dataset\n",
    "from tensorflow.keras.utils import Sequence\n",
    "from tensorflow.keras.optimizers import Adam\n",
    "from keras.preprocessing.image import ImageDataGenerator\n",
    "from tensorflow.keras.models import Model\n",
    "from keras import layers\n",
    "from sklearn.model_selection import StratifiedKFold\n",
    "from keras.preprocessing.image import ImageDataGenerator"
   ]
  },
  {
   "cell_type": "markdown",
   "id": "cece4d03",
   "metadata": {},
   "source": [
    "# Define Model"
   ]
  },
  {
   "cell_type": "code",
   "execution_count": 2,
   "id": "04bff65c",
   "metadata": {},
   "outputs": [],
   "source": [
    "def get_complete_model(base_model, operation_shape=4):\n",
    "    image_shape = (32, 32, 3)\n",
    "    \n",
    "    # Define network inputs\n",
    "    input_image_A = layers.Input(shape=image_shape)\n",
    "    input_image_B = layers.Input(shape=image_shape)\n",
    "    input_operation = layers.Input(operation_shape)\n",
    "    \n",
    "    # Digit recognition blocks\n",
    "    digit_A_prediction = base_model(input_image_A, training=False)\n",
    "    digit_B_prediction = base_model(input_image_B, training=False)\n",
    "    \n",
    "    # Expand operation\n",
    "    expanded_operation = layers.Dense(10)(input_operation)\n",
    "\n",
    "    # Concatenate output\n",
    "    cat_vector = layers.Concatenate(-1)([digit_A_prediction, digit_B_prediction, expanded_operation])\n",
    "    \n",
    "    # Regression\n",
    "    regression1 = layers.Dense(12)(cat_vector)\n",
    "    output = layers.Dense(1)(regression1)\n",
    "\n",
    "    # Model creation\n",
    "    model = Model(inputs=[input_image_A, input_image_B, input_operation], outputs=output)\n",
    "    return model"
   ]
  },
  {
   "cell_type": "code",
   "execution_count": 3,
   "id": "74aa8c08",
   "metadata": {},
   "outputs": [],
   "source": [
    "base_model = keras.models.load_model(\"./model/conv/convnet.h5\")"
   ]
  },
  {
   "cell_type": "code",
   "execution_count": 4,
   "id": "9ad12c6a",
   "metadata": {},
   "outputs": [],
   "source": [
    "base_model.trainable = False"
   ]
  },
  {
   "cell_type": "code",
   "execution_count": 5,
   "id": "074873fc",
   "metadata": {},
   "outputs": [
    {
     "name": "stdout",
     "output_type": "stream",
     "text": [
      "Model: \"model\"\n",
      "__________________________________________________________________________________________________\n",
      "Layer (type)                    Output Shape         Param #     Connected to                     \n",
      "==================================================================================================\n",
      "input_1 (InputLayer)            [(None, 32, 32, 3)]  0                                            \n",
      "__________________________________________________________________________________________________\n",
      "input_2 (InputLayer)            [(None, 32, 32, 3)]  0                                            \n",
      "__________________________________________________________________________________________________\n",
      "input_3 (InputLayer)            [(None, 4)]          0                                            \n",
      "__________________________________________________________________________________________________\n",
      "sequential_1 (Sequential)       (None, 10)           551466      input_1[0][0]                    \n",
      "                                                                 input_2[0][0]                    \n",
      "__________________________________________________________________________________________________\n",
      "dense (Dense)                   (None, 10)           50          input_3[0][0]                    \n",
      "__________________________________________________________________________________________________\n",
      "concatenate (Concatenate)       (None, 30)           0           sequential_1[0][0]               \n",
      "                                                                 sequential_1[1][0]               \n",
      "                                                                 dense[0][0]                      \n",
      "__________________________________________________________________________________________________\n",
      "dense_1 (Dense)                 (None, 12)           372         concatenate[0][0]                \n",
      "__________________________________________________________________________________________________\n",
      "dense_2 (Dense)                 (None, 1)            13          dense_1[0][0]                    \n",
      "==================================================================================================\n",
      "Total params: 551,901\n",
      "Trainable params: 435\n",
      "Non-trainable params: 551,466\n",
      "__________________________________________________________________________________________________\n"
     ]
    }
   ],
   "source": [
    "model = get_complete_model(base_model)\n",
    "model.summary()"
   ]
  },
  {
   "cell_type": "markdown",
   "id": "29fc27ed",
   "metadata": {},
   "source": [
    "## Test Model With Random Weights"
   ]
  },
  {
   "cell_type": "code",
   "execution_count": 6,
   "id": "002247b6",
   "metadata": {},
   "outputs": [
    {
     "name": "stdout",
     "output_type": "stream",
     "text": [
      "Wall time: 12.6 s\n"
     ]
    },
    {
     "data": {
      "text/plain": [
       "array([[-0.0760373]], dtype=float32)"
      ]
     },
     "execution_count": 6,
     "metadata": {},
     "output_type": "execute_result"
    }
   ],
   "source": [
    "%%time\n",
    "\n",
    "A = np.random.random_sample((1, 32,32,3))\n",
    "B = np.random.random_sample((1, 32,32,3))\n",
    "operation = np.array([[0, 0, 0, 1]])\n",
    "model.predict([A, B, operation])"
   ]
  },
  {
   "cell_type": "markdown",
   "id": "d48f1169",
   "metadata": {},
   "source": [
    "# Import Data"
   ]
  },
  {
   "cell_type": "code",
   "execution_count": 7,
   "id": "7acbeff3",
   "metadata": {},
   "outputs": [],
   "source": [
    "left_numbers_path = './data/npy_files/left_numbers.npy'\n",
    "right_numbers_path = './data/npy_files/right_numbers.npy'\n",
    "operands_path = './data/npy_files/opperands.npy'\n",
    "labels_path = './data/npy_files/labels.npy'"
   ]
  },
  {
   "cell_type": "code",
   "execution_count": 8,
   "id": "2f5b9171",
   "metadata": {},
   "outputs": [],
   "source": [
    "left_numbers = np.load(left_numbers_path)\n",
    "right_numbers = np.load(right_numbers_path)\n",
    "operands = np.load(operands_path)\n",
    "labels = np.load(labels_path)"
   ]
  },
  {
   "cell_type": "code",
   "execution_count": 9,
   "id": "baa4bd61",
   "metadata": {},
   "outputs": [
    {
     "name": "stdout",
     "output_type": "stream",
     "text": [
      "SHAPES:\n",
      " - left_numbers: (23951, 32, 32, 3)\n",
      " - right_numbers: (23951, 32, 32, 3)\n",
      " - opperands: (23951, 4)\n",
      " - labels: (23951,)\n"
     ]
    }
   ],
   "source": [
    "print(f'SHAPES:\\n - left_numbers: {left_numbers.shape}\\n - right_numbers: {right_numbers.shape}\\n - opperands: {operands.shape}\\n - labels: {labels.shape}')"
   ]
  },
  {
   "cell_type": "markdown",
   "id": "dd2ba5d3",
   "metadata": {},
   "source": [
    "# Create Image Augmentation Object"
   ]
  },
  {
   "cell_type": "code",
   "execution_count": 10,
   "id": "483a2904",
   "metadata": {},
   "outputs": [],
   "source": [
    "class JoinedGen(Sequence):\n",
    "    def __init__(self, datagen, left_numbers, right_numbers, operands, labels, batch_size):\n",
    "        iterator1 = datagen.flow(left_numbers, labels, batch_size=batch_size, shuffle=True)\n",
    "        iterator2 = datagen.flow(right_numbers, operands, batch_size=batch_size, shuffle=True)\n",
    "        self.gen1 = iterator1\n",
    "        self.gen2 = iterator2\n",
    "\n",
    "        assert len(iterator1) == len(iterator2)\n",
    "\n",
    "    def __len__(self):\n",
    "        return len(self.gen1)\n",
    "\n",
    "    def __getitem__(self, i):\n",
    "        x1, y = self.gen1[i]\n",
    "        x2, op = self.gen2[i]\n",
    "        \n",
    "        return [x1, x2, op], y\n",
    "\n",
    "    def on_epoch_end(self):\n",
    "        self.gen1.on_epoch_end()\n",
    "        self.gen2.on_epoch_end()\n",
    "        self.gen2.index_array = self.gen1.index_array"
   ]
  },
  {
   "cell_type": "code",
   "execution_count": 11,
   "id": "225c469b",
   "metadata": {},
   "outputs": [],
   "source": [
    "datagen = ImageDataGenerator(rotation_range=8,\n",
    "                             zoom_range=[0.95, 1.05],\n",
    "                             height_shift_range=0.10,\n",
    "                             shear_range=0.15)"
   ]
  },
  {
   "cell_type": "code",
   "execution_count": 12,
   "id": "e59e1f23",
   "metadata": {},
   "outputs": [],
   "source": [
    "joined_generator = JoinedGen(datagen, left_numbers, right_numbers, operands, labels, 30)"
   ]
  },
  {
   "cell_type": "markdown",
   "id": "a8b4fa38",
   "metadata": {},
   "source": [
    "## Left Numbers Batch"
   ]
  },
  {
   "cell_type": "code",
   "execution_count": 13,
   "id": "36352bd4",
   "metadata": {},
   "outputs": [
    {
     "data": {
      "text/plain": [
       "(30, 32, 32, 3)"
      ]
     },
     "execution_count": 13,
     "metadata": {},
     "output_type": "execute_result"
    }
   ],
   "source": [
    "joined_generator[0][0][0].shape"
   ]
  },
  {
   "cell_type": "markdown",
   "id": "01127749",
   "metadata": {},
   "source": [
    "## Right Numbers Batch"
   ]
  },
  {
   "cell_type": "code",
   "execution_count": 14,
   "id": "f1c34583",
   "metadata": {},
   "outputs": [
    {
     "data": {
      "text/plain": [
       "(30, 32, 32, 3)"
      ]
     },
     "execution_count": 14,
     "metadata": {},
     "output_type": "execute_result"
    }
   ],
   "source": [
    "joined_generator[0][0][1].shape"
   ]
  },
  {
   "cell_type": "markdown",
   "id": "59942766",
   "metadata": {},
   "source": [
    "## Operators Batch"
   ]
  },
  {
   "cell_type": "code",
   "execution_count": 15,
   "id": "5ecec6ed",
   "metadata": {},
   "outputs": [
    {
     "data": {
      "text/plain": [
       "(30, 4)"
      ]
     },
     "execution_count": 15,
     "metadata": {},
     "output_type": "execute_result"
    }
   ],
   "source": [
    "joined_generator[0][0][2].shape"
   ]
  },
  {
   "cell_type": "markdown",
   "id": "8e2b9d62",
   "metadata": {},
   "source": [
    "## Labels Batch"
   ]
  },
  {
   "cell_type": "code",
   "execution_count": 16,
   "id": "0f89a69f",
   "metadata": {},
   "outputs": [
    {
     "data": {
      "text/plain": [
       "(30,)"
      ]
     },
     "execution_count": 16,
     "metadata": {},
     "output_type": "execute_result"
    }
   ],
   "source": [
    "joined_generator[0][1].shape"
   ]
  },
  {
   "cell_type": "markdown",
   "id": "cf2f38e0",
   "metadata": {},
   "source": [
    "# Define Best Learning Rate"
   ]
  },
  {
   "cell_type": "code",
   "execution_count": 17,
   "id": "9a49c82b",
   "metadata": {},
   "outputs": [],
   "source": [
    "def train_val_split_indexes(data_len, split_size):\n",
    "    val_idx = np.random.choice(data_len, int(split_size*data_len), replace=False)\n",
    "    val_idx_set = set(val_idx.tolist())\n",
    "    train_idx = []\n",
    "    for i in range(data_len):\n",
    "        if i not in val_idx_set:\n",
    "            train_idx.append(i)\n",
    "    return np.array(train_idx), val_idx"
   ]
  },
  {
   "cell_type": "code",
   "execution_count": 18,
   "id": "06c9ab32",
   "metadata": {},
   "outputs": [],
   "source": [
    "lr_schedule_model = get_complete_model(base_model)"
   ]
  },
  {
   "cell_type": "code",
   "execution_count": 19,
   "id": "7be63b21",
   "metadata": {},
   "outputs": [],
   "source": [
    "early_stopping = keras.callbacks.EarlyStopping(patience=8)\n",
    "optimizer = keras.optimizers.Adam(learning_rate=1e-3, amsgrad=True)\n",
    "model_checkpoint = keras.callbacks.ModelCheckpoint(\n",
    "                   './best_model_save/model.h5', \n",
    "                   save_best_only=True)\n",
    "lr_schedule_model.compile(optimizer=optimizer,\n",
    "                  loss='mean_squared_error',\n",
    "                 metrics=['accuracy'])"
   ]
  },
  {
   "cell_type": "code",
   "execution_count": 20,
   "id": "7cae48cc",
   "metadata": {},
   "outputs": [],
   "source": [
    "kfold = StratifiedKFold(n_splits=5, shuffle=True, random_state=42)"
   ]
  },
  {
   "cell_type": "code",
   "execution_count": 21,
   "id": "f4142d39",
   "metadata": {},
   "outputs": [],
   "source": [
    "d = np.zeros((left_numbers.shape[0], 1))\n",
    "l = np.zeros((left_numbers.shape[0], 1))\n",
    "for train_idx, test_idx in kfold.split(d, l):    \n",
    "    train_idx, val_idx = train_val_split_indexes(train_idx.shape[0], 0.15)\n",
    "    \n",
    "    train_left_numbers = left_numbers[train_idx]\n",
    "    train_right_numbers = right_numbers[train_idx]\n",
    "    train_operands = operands[train_idx]\n",
    "    train_labels = labels[train_idx]\n",
    "    \n",
    "    val_left_numbers = left_numbers[val_idx]\n",
    "    val_right_numbers = right_numbers[val_idx]\n",
    "    val_operands = operands[val_idx]\n",
    "    val_labels = labels[val_idx]\n",
    "\n",
    "    test_left_numbers = left_numbers[test_idx]\n",
    "    test_right_numbers = right_numbers[test_idx]\n",
    "    test_operands = operands[test_idx]\n",
    "    test_labels = labels[test_idx]\n",
    "    break"
   ]
  },
  {
   "cell_type": "code",
   "execution_count": 22,
   "id": "b0340013",
   "metadata": {},
   "outputs": [],
   "source": [
    "test_gen = JoinedGen(datagen, train_left_numbers, train_right_numbers, train_operands, train_labels, 30)"
   ]
  },
  {
   "cell_type": "code",
   "execution_count": 23,
   "id": "cb14b846",
   "metadata": {},
   "outputs": [
    {
     "name": "stdout",
     "output_type": "stream",
     "text": [
      "Epoch 1/30\n",
      "128/128 [==============================] - 26s 178ms/step - loss: 195.4966 - accuracy: 0.0601 - val_loss: 177.0486 - val_accuracy: 0.0515\n",
      "Epoch 2/30\n",
      "128/128 [==============================] - 22s 170ms/step - loss: 147.4570 - accuracy: 0.0521 - val_loss: 130.6713 - val_accuracy: 0.0515\n",
      "Epoch 3/30\n",
      "128/128 [==============================] - 21s 168ms/step - loss: 115.0014 - accuracy: 0.0529 - val_loss: 107.1892 - val_accuracy: 0.0543\n",
      "Epoch 4/30\n",
      "128/128 [==============================] - 22s 169ms/step - loss: 101.4302 - accuracy: 0.0581 - val_loss: 99.7942 - val_accuracy: 0.0553\n",
      "Epoch 5/30\n",
      "128/128 [==============================] - 22s 170ms/step - loss: 96.4060 - accuracy: 0.0568 - val_loss: 96.1150 - val_accuracy: 0.0571\n",
      "Epoch 6/30\n",
      "128/128 [==============================] - 22s 168ms/step - loss: 93.0923 - accuracy: 0.0579 - val_loss: 93.2190 - val_accuracy: 0.0560\n",
      "Epoch 7/30\n",
      "128/128 [==============================] - 21s 168ms/step - loss: 90.7046 - accuracy: 0.0551 - val_loss: 91.1369 - val_accuracy: 0.0550\n",
      "Epoch 8/30\n",
      "128/128 [==============================] - 22s 169ms/step - loss: 89.2617 - accuracy: 0.0532 - val_loss: 90.4667 - val_accuracy: 0.0550\n",
      "Epoch 9/30\n",
      "128/128 [==============================] - 22s 168ms/step - loss: 88.6106 - accuracy: 0.0538 - val_loss: 89.8247 - val_accuracy: 0.0536\n",
      "Epoch 10/30\n",
      "128/128 [==============================] - 22s 168ms/step - loss: 88.1854 - accuracy: 0.0527 - val_loss: 89.5970 - val_accuracy: 0.0539\n",
      "Epoch 11/30\n",
      "128/128 [==============================] - 22s 168ms/step - loss: 88.0099 - accuracy: 0.0524 - val_loss: 89.4215 - val_accuracy: 0.0539\n",
      "Epoch 12/30\n",
      "128/128 [==============================] - 22s 168ms/step - loss: 87.9619 - accuracy: 0.0523 - val_loss: 89.3659 - val_accuracy: 0.0539\n",
      "Epoch 13/30\n",
      "128/128 [==============================] - 22s 168ms/step - loss: 87.8880 - accuracy: 0.0524 - val_loss: 89.4469 - val_accuracy: 0.0536\n",
      "Epoch 14/30\n",
      "128/128 [==============================] - 22s 169ms/step - loss: 87.8106 - accuracy: 0.0523 - val_loss: 89.3147 - val_accuracy: 0.0539\n",
      "Epoch 15/30\n",
      "128/128 [==============================] - 22s 169ms/step - loss: 87.9358 - accuracy: 0.0523 - val_loss: 89.4183 - val_accuracy: 0.0539\n",
      "Epoch 16/30\n",
      "128/128 [==============================] - 22s 168ms/step - loss: 87.8384 - accuracy: 0.0520 - val_loss: 89.5534 - val_accuracy: 0.0536\n",
      "Epoch 17/30\n",
      "128/128 [==============================] - 25s 194ms/step - loss: 87.8028 - accuracy: 0.0522 - val_loss: 89.2818 - val_accuracy: 0.0539\n",
      "Epoch 18/30\n",
      "128/128 [==============================] - 25s 198ms/step - loss: 87.8880 - accuracy: 0.0521 - val_loss: 89.3220 - val_accuracy: 0.0539\n",
      "Epoch 19/30\n",
      "128/128 [==============================] - 25s 198ms/step - loss: 87.8085 - accuracy: 0.0525 - val_loss: 89.2792 - val_accuracy: 0.0539\n",
      "Epoch 20/30\n",
      "128/128 [==============================] - 23s 181ms/step - loss: 87.8050 - accuracy: 0.0523 - val_loss: 89.3353 - val_accuracy: 0.0536\n",
      "Epoch 21/30\n",
      "128/128 [==============================] - 25s 191ms/step - loss: 87.8640 - accuracy: 0.0526 - val_loss: 89.5003 - val_accuracy: 0.0536\n",
      "Epoch 22/30\n",
      "128/128 [==============================] - 25s 194ms/step - loss: 87.8434 - accuracy: 0.0526 - val_loss: 89.3687 - val_accuracy: 0.0539\n",
      "Epoch 23/30\n",
      "128/128 [==============================] - 24s 183ms/step - loss: 87.7848 - accuracy: 0.0523 - val_loss: 89.2717 - val_accuracy: 0.0539\n",
      "Epoch 24/30\n",
      "128/128 [==============================] - 24s 185ms/step - loss: 87.9331 - accuracy: 0.0523 - val_loss: 89.3824 - val_accuracy: 0.0536\n",
      "Epoch 25/30\n",
      "128/128 [==============================] - 26s 201ms/step - loss: 87.8385 - accuracy: 0.0524 - val_loss: 89.2998 - val_accuracy: 0.0536\n",
      "Epoch 26/30\n",
      "128/128 [==============================] - 23s 177ms/step - loss: 87.8205 - accuracy: 0.0523 - val_loss: 89.6057 - val_accuracy: 0.0536\n",
      "Epoch 27/30\n",
      "128/128 [==============================] - 24s 191ms/step - loss: 87.8576 - accuracy: 0.0524 - val_loss: 89.6110 - val_accuracy: 0.0536\n",
      "Epoch 28/30\n",
      "128/128 [==============================] - 24s 188ms/step - loss: 87.7880 - accuracy: 0.0523 - val_loss: 89.2872 - val_accuracy: 0.0536\n",
      "Epoch 29/30\n",
      "128/128 [==============================] - 24s 187ms/step - loss: 87.8600 - accuracy: 0.0524 - val_loss: 89.2870 - val_accuracy: 0.0539\n",
      "Epoch 30/30\n",
      "128/128 [==============================] - 23s 180ms/step - loss: 87.8270 - accuracy: 0.0521 - val_loss: 89.3069 - val_accuracy: 0.0536\n"
     ]
    }
   ],
   "source": [
    "history = lr_schedule_model.fit(JoinedGen(datagen, train_left_numbers, train_right_numbers, train_operands, train_labels, 128),\n",
    "                              epochs=30, validation_data=([val_left_numbers, val_right_numbers, val_operands], val_labels),\n",
    "                              callbacks=[early_stopping, model_checkpoint])"
   ]
  }
 ],
 "metadata": {
  "kernelspec": {
   "display_name": "Python 3 (ipykernel)",
   "language": "python",
   "name": "python3"
  },
  "language_info": {
   "codemirror_mode": {
    "name": "ipython",
    "version": 3
   },
   "file_extension": ".py",
   "mimetype": "text/x-python",
   "name": "python",
   "nbconvert_exporter": "python",
   "pygments_lexer": "ipython3",
   "version": "3.9.5"
  }
 },
 "nbformat": 4,
 "nbformat_minor": 5
}
